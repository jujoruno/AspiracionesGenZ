{
  "nbformat": 4,
  "nbformat_minor": 0,
  "metadata": {
    "colab": {
      "provenance": []
    },
    "kernelspec": {
      "name": "python3",
      "display_name": "Python 3"
    },
    "language_info": {
      "name": "python"
    }
  },
  "cells": [
    {
      "cell_type": "code",
      "execution_count": null,
      "metadata": {
        "id": "Guh6iw79PahH"
      },
      "outputs": [],
      "source": [
        "import pandas as pd\n",
        "import matplotlib.pyplot as plt\n",
        "import seaborn as sns\n",
        "from sklearn.preprocessing import StandardScaler, MinMaxScaler, LabelEncoder, OneHotEncoder\n",
        "import warnings"
      ]
    },
    {
      "cell_type": "code",
      "source": [
        "with warnings.catch_warnings():\n",
        "        warnings.simplefilter(\"ignore\")"
      ],
      "metadata": {
        "id": "gpub0JI9ZOIw"
      },
      "execution_count": null,
      "outputs": []
    },
    {
      "cell_type": "code",
      "source": [
        "def realizar_eda(dataframe):\n",
        "    # Colores personalizados para las gráficas\n",
        "    colores = ['#1f77b4', '#ff7f0e', '#2ca02c', '#d62728', '#9467bd',\n",
        "               '#8c564b', '#e377c2', '#7f7f7f', '#bcbd22', '#17becf']\n",
        "\n",
        "    # Ignorar advertencias\n",
        "    warnings.filterwarnings(\"ignore\")\n",
        "\n",
        "    # Información general del DataFrame\n",
        "    print(\"Información general del DataFrame:\")\n",
        "    print(dataframe.info())\n",
        "\n",
        "    # Estadísticas descriptivas\n",
        "    print(\"\\nEstadísticas descriptivas:\")\n",
        "    print(dataframe.describe())\n",
        "\n",
        "    # Completitud (porcentaje de valores no nulos)\n",
        "    print(\"\\nCompletitud:\")\n",
        "    completitud = (1 - dataframe.isnull().mean()) * 100\n",
        "    print(completitud.round(2))\n",
        "\n",
        "    # Histogramas para columnas numéricas con valores numéricos\n",
        "    numericas = dataframe.select_dtypes(include=['int64', 'float64'])\n",
        "    for columna in numericas.columns:\n",
        "        plt.figure(figsize=(8, 4))\n",
        "        ax = sns.histplot(data=dataframe, x=columna, kde=True, color=colores[0])\n",
        "        plt.title(f'Histograma de {columna}')\n",
        "        if len(ax.patches) < 25:  # Imprimir valores solo si hay menos de 25 barras\n",
        "            for p in ax.patches:\n",
        "                ax.annotate(f'{p.get_height():.0f}', (p.get_x() + p.get_width() / 2., p.get_height()), ha='center', va='bottom')\n",
        "        plt.show()\n",
        "\n",
        "    # Gráfico de barras para columnas categóricas\n",
        "    categoricas = dataframe.select_dtypes(include=['object'])\n",
        "    for columna in categoricas.columns:\n",
        "        plt.figure(figsize=(8, 4))\n",
        "        ax = sns.countplot(data=dataframe, x=columna, palette=colores)\n",
        "        plt.title(f'Gráfico de barras de {columna}')\n",
        "        plt.xticks(rotation=90)\n",
        "        if len(ax.patches) < 25:  # Imprimir valores solo si hay menos de 25 barras\n",
        "            for p in ax.patches:\n",
        "                ax.annotate(f'{p.get_height():.0f}', (p.get_x() + p.get_width() / 2., p.get_height()), ha='center', va='bottom')\n",
        "        plt.show()\n",
        "\n",
        "    # Matriz de correlación\n",
        "    print(\"\\nMatriz de Correlación:\")\n",
        "    matriz_correlacion = dataframe.corr()\n",
        "    plt.figure(figsize=(10, 8))\n",
        "    sns.heatmap(matriz_correlacion, annot=True, cmap='coolwarm', fmt=\".2f\", linewidths=0.5)\n",
        "    plt.title(\"Matriz de Correlación\")\n",
        "    plt.show()\n",
        "\n",
        "    # Boxplots para columnas numéricas en orientación horizontal\n",
        "    for columna in numericas.columns:\n",
        "        plt.figure(figsize=(8, 4))\n",
        "        ax = sns.boxplot(data=dataframe, x=columna, orient='h', color=colores[1])\n",
        "        plt.title(f'Boxplot de {columna}')\n",
        "        plt.show()\n",
        "\n",
        "    # Matriz de dispersión para explorar multicolinealidad visualmente\n",
        "    print(\"\\nMatriz de Dispersión para Multicolinealidad Visual:\")\n",
        "    sns.pairplot(dataframe[numericas.columns], palette=colores)\n",
        "    plt.show()"
      ],
      "metadata": {
        "id": "dudHwCqbQw8M"
      },
      "execution_count": null,
      "outputs": []
    },
    {
      "cell_type": "code",
      "source": [
        "# Función para llenar valores faltantes o eliminar columnas\n",
        "def llenar_o_eliminar_valores(df, completitud_minima, metodo_por_columna):\n",
        "    for columna in metodo_por_columna.keys():\n",
        "        completitud = df[columna].count() / len(df)  # Calcular la completitud\n",
        "        if completitud > completitud_minima:\n",
        "            metodo = metodo_por_columna.get(columna, None)  # Obtener el método del diccionario\n",
        "            if metodo:\n",
        "                if metodo == 'mean':\n",
        "                    df[columna].fillna(df[columna].mean(), inplace=True)  # Llenar con la media\n",
        "                elif metodo == 'median':\n",
        "                    df[columna].fillna(df[columna].median(), inplace=True)  # Llenar con la mediana\n",
        "                elif metodo == 'mode':\n",
        "                    df[columna].fillna(df[columna].mode()[0], inplace=True)  # Llenar con la moda\n",
        "                elif metodo == 'ffill':\n",
        "                    df[columna].fillna(method='ffill', inplace=True)  # Llenar con método ffill (adelante)\n",
        "                elif metodo == 'bfill':\n",
        "                    df[columna].fillna(method='bfill', inplace=True)  # Llenar con método bfill (atrás)\n",
        "        else:\n",
        "            print(f\"Eliminando columna '{columna}' debido a baja completitud\")\n",
        "            df.drop(columna, axis=1, inplace=True)  # Eliminar la columna si la completitud es baja\n",
        "    return df"
      ],
      "metadata": {
        "id": "gvMm1yQ-ZvGc"
      },
      "execution_count": null,
      "outputs": []
    },
    {
      "cell_type": "code",
      "source": [
        "# Función para ajustar valores atípicos según el método elegido\n",
        "def manejar_outliers_por_metodo(df, metodo='rango', atipicos_threshold=1.5):\n",
        "    df_manipulado = df.copy()  # Crear una copia del DataFrame para no modificar el original\n",
        "\n",
        "    for columna in df_manipulado.columns:\n",
        "        if df_manipulado[columna].dtype != 'object':\n",
        "            q1 = df_manipulado[columna].quantile(0.25)\n",
        "            q3 = df_manipulado[columna].quantile(0.75)\n",
        "            iqr = q3 - q1\n",
        "            lower_bound = q1 - atipicos_threshold * iqr # q1 - 2*df[columna].std()\n",
        "            upper_bound = q3 + atipicos_threshold * iqr # q1 + 2*df[columna].std()\n",
        "\n",
        "            atipicos_indices = (df_manipulado[columna] < lower_bound) | (df_manipulado[columna] > upper_bound)\n",
        "\n",
        "            if metodo == 'rango':\n",
        "                df_manipulado[columna] = df_manipulado[columna].clip(lower_bound, upper_bound)  # Ajustar al rango mínimo-máximo\n",
        "            elif metodo == 'media':\n",
        "                df_manipulado[columna] = df_manipulado[columna].mask(atipicos_indices, df_manipulado[columna].mean())  # Reemplazar por la media\n",
        "            elif metodo == 'mediana':\n",
        "                df_manipulado[columna] = df_manipulado[columna].mask(atipicos_indices, df_manipulado[columna].median())  # Reemplazar por la mediana\n",
        "\n",
        "    return df_manipulado"
      ],
      "metadata": {
        "id": "kxOlCGacahq5"
      },
      "execution_count": null,
      "outputs": []
    },
    {
      "cell_type": "code",
      "source": [
        "def Escalar(df, columnas, metodo):\n",
        "  if metodo == \"Estandar\":\n",
        "    scaler = StandardScaler()\n",
        "  elif metodo == \"Minmax\":\n",
        "    scaler =MinMaxScaler()\n",
        "  df[columnas] = scaler.fit_transform(df[columnas])\n",
        "\n",
        "  return df"
      ],
      "metadata": {
        "id": "o2-7xMdQbocp"
      },
      "execution_count": null,
      "outputs": []
    },
    {
      "cell_type": "code",
      "source": [
        "def Dummies(df,columnas):\n",
        "  return pd.get_dummies(df, columns=columnas, drop_first=False)"
      ],
      "metadata": {
        "id": "7PoLG5IhzDow"
      },
      "execution_count": null,
      "outputs": []
    },
    {
      "cell_type": "code",
      "source": [
        "def Labels(df,columnas):\n",
        "  label_encoder = LabelEncoder()\n",
        "  df[columnas] = label_encoder.fit_transform(df[columnas])\n",
        "  return df"
      ],
      "metadata": {
        "id": "l-rhXZT5zZU3"
      },
      "execution_count": null,
      "outputs": []
    }
  ]
}